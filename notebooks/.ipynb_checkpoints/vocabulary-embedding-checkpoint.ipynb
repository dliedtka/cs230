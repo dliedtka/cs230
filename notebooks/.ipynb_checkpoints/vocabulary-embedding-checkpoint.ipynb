{
 "cells": [
  {
   "cell_type": "markdown",
   "metadata": {},
   "source": [
    "Generate intial word embedding for headlines and description"
   ]
  },
  {
   "cell_type": "markdown",
   "metadata": {},
   "source": [
    "The embedding is limited to a fixed vocabulary size (`vocab_size`) but\n",
    "a vocabulary of all the words that appeared in the data is built."
   ]
  },
  {
   "cell_type": "code",
   "execution_count": 1,
   "metadata": {
    "collapsed": true
   },
   "outputs": [],
   "source": [
    "FN = 'vocabulary-embedding'"
   ]
  },
  {
   "cell_type": "code",
   "execution_count": 2,
   "metadata": {
    "collapsed": true
   },
   "outputs": [],
   "source": [
    "seed=42"
   ]
  },
  {
   "cell_type": "code",
   "execution_count": 3,
   "metadata": {
    "collapsed": true
   },
   "outputs": [],
   "source": [
    "vocab_size = 40000"
   ]
  },
  {
   "cell_type": "code",
   "execution_count": 4,
   "metadata": {
    "collapsed": true
   },
   "outputs": [],
   "source": [
    "embedding_dim = 100"
   ]
  },
  {
   "cell_type": "code",
   "execution_count": 5,
   "metadata": {
    "collapsed": true
   },
   "outputs": [],
   "source": [
    "lower = False # dont lower case the text # if we run again use this"
   ]
  },
  {
   "cell_type": "markdown",
   "metadata": {},
   "source": [
    "# read tokenized headlines and descriptions"
   ]
  },
  {
   "cell_type": "code",
   "execution_count": 6,
   "metadata": {
    "collapsed": true
   },
   "outputs": [],
   "source": [
    "import cPickle as pickle\n",
    "FN0 = 'tokens' # this is the name of the data file which I assume you already have # use data.pkl instead\n",
    "with open('../dataset/data.pkl', 'rb') as fp:\n",
    "    heads, desc, keywords = pickle.load(fp) # keywords are not used in this project"
   ]
  },
  {
   "cell_type": "code",
   "execution_count": 7,
   "metadata": {
    "collapsed": true
   },
   "outputs": [],
   "source": [
    "if lower:\n",
    "    heads = [h.lower() for h in heads]"
   ]
  },
  {
   "cell_type": "code",
   "execution_count": 8,
   "metadata": {
    "collapsed": true
   },
   "outputs": [],
   "source": [
    "if lower:\n",
    "    desc = [h.lower() for h in desc]"
   ]
  },
  {
   "cell_type": "code",
   "execution_count": 9,
   "metadata": {},
   "outputs": [
    {
     "data": {
      "text/plain": [
       "'Agent Cooper in Twin Peaks is the audience: once delighted, now disintegrating'"
      ]
     },
     "execution_count": 9,
     "metadata": {},
     "output_type": "execute_result"
    }
   ],
   "source": [
    "i=0\n",
    "heads[i]"
   ]
  },
  {
   "cell_type": "code",
   "execution_count": 10,
   "metadata": {},
   "outputs": [
    {
     "data": {
      "text/plain": [
       "'      And never more so than in Showtime\\xe2\\x80\\x99s new series revival Some spoilers ahead through episode 4 of season 3 of Twin Peaks. On May 21st Showtime brought back David Lynch\\xe2\\x80\\x99s groundbreaking TV series Twin Peaks and fulfilled a prophecy in the process. In the second season finale back in 1991 the spirit of series-defining murder victim Laura Palmer told FBI special agent and series protagonist Dale Cooper \\xe2\\x80\\x9cI\\xe2\\x80\\x99ll see you again in 25 years.\\xe2\\x80\\x9d That clip plays again in the first episode of Lynch\\xe2\\x80\\x99s Twin Peaks revival as a reminder that decades have in fact gone by Laura\\xe2\\x80\\x99s promise has been carried out and a series canceled mid-story is back on the air.A lot has changed in 25 years. The original cast members who are mostly back on board have all aged heavily and visibly. Many of the characters have moved on in life getting new jobs forming families or taking up new obsessions. But in the opening episode Dale Cooper was still where the show left him in 1991: trapped in the spirit domain known as the Black Lodge at the mercy of incomprehensible forces that behave in erratic alien ways. In other words he\\xe2\\x80\\x99s just like anyone who\\xe2\\x80\\x99s actually watching Twin Peaks. As the third season began the audience was also stuck back in 1991 waiting to see whether we were going to move on from the show\\xe2\\x80\\x99s many long-gestating cliffhangers. And we were also at the mercy of the incomprehensible force that is David Lynch with his erratic alien storytelling methods.All protagonists are mediators who help tell audiences how to interpret the narrative around them but Dale Cooper is something else entirely: he is the audience stumbling through Lynch\\xe2\\x80\\x99s obscure vision and mutating along with it. The show\\xe2\\x80\\x99s tone budget and format have all changed with the 2017 revival and Cooper too has changed \\xe2\\x80\\x94 more so than any other character on the show. But he\\xe2\\x80\\x99s changed in ways we should recognize. They\\xe2\\x80\\x99re the same ways we\\xe2\\x80\\x99ve changed as Twin Peaks has progressed from era-defining hit to weird cable art-experiment. The old series followed Agent Cooper through the painful awkward process of maturing as an agent and a man. And his development happened in parallel with the maturing of a TV audience that had to learn how to follow a new kind of story.All protagonists mediate their stories but Dale Cooper is something else entirelyToday viewers have more sophisticated expectations than they did in the 1990s. They expect long arcs slow character development and mysteries that may take hours of air time to explore let alone to decode. But Showtime\\xe2\\x80\\x99s new series is still leaving viewers curious frustrated baffled and without the tools to translate what they\\xe2\\x80\\x99re seeing \\xe2\\x80\\x94 which is exactly what Agent Cooper seems to be feeling right now as well. Consider Cooper as he started Twin Peaks back in 1990 as a fresh-faced perky outsider walking into a mid-sized mountain community with no idea what to expect. Like the audience he was entranced by the town of Twin Peaks \\xe2\\x80\\x94 its quirky people its unexpected pleasures the sheer vividness of everything around him. Yes he was there to solve a murder but he was endlessly confident about his ability to tackle any case. The audience felt the same natural confidence. We knew how TV murder mysteries went. We thought we knew exactly what to expect from that end of the story: some procedural details some red herrings some drama and eventually a solution.                Image: ABC  But like Cooper we were seduced and distracted by Twin Peaks\\xe2\\x80\\x99 unexpected pleasures the way the town unfolded on-screen with all its strange domestic soap opera dramas and oddball interactions. Like Coop we found our fun in the unusual texture and color of the world David Lynch and Mark Frost built. In those early days Twin Peaks was a popular fad \\xe2\\x80\\x94 the two-hour pilot was the season\\xe2\\x80\\x99s highest-rated TV movie \\xe2\\x80\\x94 and the popular way to appreciate it was by emulating Dale Cooper\\xe2\\x80\\x99s experience as much as possible. Lifestyle pieces proliferated in the media tracking people who threw Peaks parties to watch the show while eating all the things Cooper rhapsodized about in the early episodes: stacks of doughnuts cherry pie coffee and breakfast food. (\\xe2\\x80\\x9cNothing beats the taste sensation when maple syrup collides with ham!\\xe2\\x80\\x9d he chirps in episode 4.) The audience didn\\xe2\\x80\\x99t just want to watch Cooper solving a mystery they wanted to be him experiencing his outsized cheer for the world.The audience didn\\xe2\\x80\\x99t just want to watch Cooper solving a mystery they wanted to be himAs the story went on though the tone darkened. Cooper lost his Boy Scout enthusiasm for food and the smell of Douglas firs. As more details emerged in the Laura Palmer murder case another victim surfaced and the supernatural side of the story emerged Twin Peaks stopped sending Cooper on wacky cosplay adventures to Canada and letting him vet his clues with oddball psychic experiments. It started confronting him with unexpected alarming experiences. He took the first one in stride: visiting the Black Lodge in a dream he returned convinced that he\\xe2\\x80\\x99d solved the murder and that all would be well once he remembered the solution. Like us he didn\\xe2\\x80\\x99t really understand what was going on at that point of the story but he was still optimistic and still willing to roll with every strange new revelation. Then Cooper got shot. The second season of Twin Peaks opened with him bleeding on the ground enduring the unhelpful attentions of \\xe2\\x80\\x9cthe world\\xe2\\x80\\x99s oldest waiter\\xe2\\x80\\x9d listening to a glowing giant who dispenses information without acknowledging that Cooper may not live to use it and having a strained one-way conversation with his voice-activated tape recorder. The viewers suffered along with him through excruciating events that seemed drawn out to the point of perversity. Suddenly being Agent Dale Cooper wasn\\xe2\\x80\\x99t fun anymore. His confidence was punctured and we were all baffled and helpless together.                Image: ABC  There are moments in season 2 where Cooper bounces back into form but they\\xe2\\x80\\x99re outnumbered by events that exhaust and chasten him visibly transforming him into a more solemn internal man. Jean Renault held him hostage beat him and threatened to murder him suggesting Cooper was the cause of the town\\xe2\\x80\\x99s growing darkness. His former FBI partner Windom Earle brought a new chaos to town and revealed Cooper\\xe2\\x80\\x99s past failings. Cooper lost his FBI standing and his love interest. He saw Earle\\xe2\\x80\\x99s soul consumed in front of him. A murderous monster took his place in the outside world. By the time season 2 ended the audience had seen Cooper frightened powerless and confused as much as it ever saw him confident and in control. He stopped being a motive force in the world and became a passive object in his own story. The series\\xe2\\x80\\x99s cancellation left viewers just as rudderless and abandoned as he was.\\xe2\\x80\\x98Twin Peaks\\xe2\\x80\\x99 was about a hero maturing but also about how the world consumed and broke himCooper\\xe2\\x80\\x99s trend toward impotence over the course of Twin Peaks\\xe2\\x80\\x99 original series run made for an ambitious and personal story. In the 1990s TV viewers weren\\xe2\\x80\\x99t used to long-arc serial dramas where the protagonist changed rapidly and irrevocably the way protagonists are expected to in today\\xe2\\x80\\x99s stories. But while Twin Peaks\\xe2\\x80\\x99 arc was compelling to many of the fans who stuck with it it was wearying and demoralizing as well. The ratings trended steadily and sharply downward peaking at milestones \\xe2\\x80\\x94 the second season premiere the reveal of who killed Laura Palmer \\xe2\\x80\\x94 but still plummeting from the early days. The ratings drop was a form of feedback from a viewership who like Cooper weren\\xe2\\x80\\x99t confident and eager anymore. They began rejecting the show as it rejected its early tone and its early promise. As Twin Peaks developed it became clear that it was about the maturing of a hero but it was also about how the vast and incomprehensible aspects of his world claimed consumed and broke him. Viewers couldn\\xe2\\x80\\x99t be blamed for pulling away from that story.And as Lynch withdrew from the show it became narratively muddled inconsistent and sometimes downright silly. Cooper\\xe2\\x80\\x99s story remains one relatively consistent throughline but it\\xe2\\x80\\x99s a tragic one in which a fan-favorite character the voice and point of view of the series loses his joy his freedom and his capacity to control his own life. And it became the story of an audience that flocked to the show for lively quirky surprises and wound up splintered divided and uncertain.                Image: Showtime  Showtime\\xe2\\x80\\x99s series launches with Agent Cooper as thoroughly broken as he\\xe2\\x80\\x99s ever been. The first two episodes find him still trapped in the Lodge facing the shrieking spirit of Laura Palmer and an angry human-sized nervous system topped by a pulsing talking brain. He\\xe2\\x80\\x99s ejected into space threatened by an unseen force and rescued by a blinded woman with unclear motives who helps him in unclear ways. Finally he\\xe2\\x80\\x99s fed through an electrical socket into what seems to be a decoy body living its own life until he takes it over. By episode 4 of the series he\\xe2\\x80\\x99s stumbling around in a lobotomized daze repeating whatever people say to him bellowing \\xe2\\x80\\x9cHelp\\xe2\\x80\\x9d at random strangers and \\xe2\\x80\\x9cHelloooooo!\\xe2\\x80\\x9d at slot machines. He\\xe2\\x80\\x99s confused helpless and only slowly regaining the tools he needs to function in this world.And so are we. The knowledge that Lynch has been given creative control of the show is a form of reassurance a promise that even if the new Peaks narrative is baffling and bizarre it\\xe2\\x80\\x99s at least intended. It\\xe2\\x80\\x99s not the work of slot-fillers trying to pad out an infinitely ongoing program it\\xe2\\x80\\x99s a creative mastermind trying to tell a specific story. But that story is once again leaving viewers at sea trying to pick apart Lynch\\xe2\\x80\\x99s work for tiny clues about what they\\xe2\\x80\\x99re watching. We\\xe2\\x80\\x99re back in Dale Cooper\\xe2\\x80\\x99s position wandering through a freshly revived world and trying to catch up with the ways it\\xe2\\x80\\x99s moved on in his absence.                Image: Showtime  The problem with the new Peaks as of episode 4 though is that we have so little basis for understanding who our audience avatar is right now. Is Cooper mentally impaired because he\\xe2\\x80\\x99s spent 25 years outside of time and space? Because he\\xe2\\x80\\x99s stuck in a false constructed body? Because Bob claimed some part of him while stealing his identity? Or just because Lynch thinks it\\xe2\\x80\\x99s funny to have Kyle MacLachlan staggering around blank-faced with a tie on his head and a dozen-word vocabulary? What are the stakes of the story at this point? What is the audience to make of a narrative shaped by a character who isn\\xe2\\x80\\x99t capable of anything but following orders following glowing magical sigils and repeating whatever he hears? Like us Cooper seems to have virtually no way of interpreting what he\\xe2\\x80\\x99s seeing. For now he\\xe2\\x80\\x99s just along for the ride.we have so little basis for understanding our audience avatarThere\\xe2\\x80\\x99s no reason to believe that old Agent Cooper will ever return to Twin Peaks. The brash confident charmingly oddball young man he was in 1990 is long gone and with good reason given what he\\xe2\\x80\\x99s been through. In the same sort of way no revival could ever recapture what Twin Peaks meant to audiences in 1990 when it was all so new and fresh and strange so unlike anything that had ever appeared on network television.But he\\xe2\\x80\\x99s still around in some form still bouncing through the trials of a Lynchian world. What\\xe2\\x80\\x99s missing now is any sense that he can help us understand what those trials mean. 1990s Cooper was an active force in his own story. He helped us navigate his surroundings and see them with humor and wonder. He claimed perhaps wrongly but still convincingly that there was order somewhere in the chaos. It\\xe2\\x80\\x99s natural for us to want to return to a mode where he can actively participate in his own story where he\\xe2\\x80\\x99s helping solve its mysteries instead of acting as its biggest conundrum. But even with his humanity lost and his agency gone he still represents us onscreen. Even when he\\xe2\\x80\\x99s free-floating through a haze of glass boxes and stop-motion nightmares we\\xe2\\x80\\x99re still with him. We\\xe2\\x80\\x99re still all Agent Cooper navigating the mystery and waiting to see where this is all going.'"
      ]
     },
     "execution_count": 10,
     "metadata": {},
     "output_type": "execute_result"
    }
   ],
   "source": [
    "desc[i]"
   ]
  },
  {
   "cell_type": "code",
   "execution_count": 11,
   "metadata": {},
   "outputs": [
    {
     "ename": "TypeError",
     "evalue": "'NoneType' object has no attribute '__getitem__'",
     "output_type": "error",
     "traceback": [
      "\u001b[0;31m-------------------------------------------------------\u001b[0m",
      "\u001b[0;31mTypeError\u001b[0m             Traceback (most recent call last)",
      "\u001b[0;32m<ipython-input-11-4a740fd97a8a>\u001b[0m in \u001b[0;36m<module>\u001b[0;34m()\u001b[0m\n\u001b[0;32m----> 1\u001b[0;31m \u001b[0mkeywords\u001b[0m\u001b[0;34m[\u001b[0m\u001b[0mi\u001b[0m\u001b[0;34m]\u001b[0m\u001b[0;34m\u001b[0m\u001b[0m\n\u001b[0m",
      "\u001b[0;31mTypeError\u001b[0m: 'NoneType' object has no attribute '__getitem__'"
     ]
    }
   ],
   "source": [
    "keywords[i]"
   ]
  },
  {
   "cell_type": "code",
   "execution_count": 12,
   "metadata": {},
   "outputs": [
    {
     "data": {
      "text/plain": [
       "(96543, 88093)"
      ]
     },
     "execution_count": 12,
     "metadata": {},
     "output_type": "execute_result"
    }
   ],
   "source": [
    "len(heads),len(set(heads))"
   ]
  },
  {
   "cell_type": "code",
   "execution_count": 13,
   "metadata": {},
   "outputs": [
    {
     "data": {
      "text/plain": [
       "(96543, 88912)"
      ]
     },
     "execution_count": 13,
     "metadata": {},
     "output_type": "execute_result"
    }
   ],
   "source": [
    "len(desc),len(set(desc))"
   ]
  },
  {
   "cell_type": "markdown",
   "metadata": {},
   "source": [
    "# build vocabulary"
   ]
  },
  {
   "cell_type": "code",
   "execution_count": 14,
   "metadata": {
    "collapsed": true
   },
   "outputs": [],
   "source": [
    "from collections import Counter\n",
    "from itertools import chain\n",
    "def get_vocab(lst):\n",
    "    vocabcount = Counter(w for txt in lst for w in txt.split())\n",
    "    vocab = map(lambda x: x[0], sorted(vocabcount.items(), key=lambda x: -x[1]))\n",
    "    return vocab, vocabcount"
   ]
  },
  {
   "cell_type": "code",
   "execution_count": 15,
   "metadata": {
    "collapsed": true
   },
   "outputs": [],
   "source": [
    "vocab, vocabcount = get_vocab(heads+desc)"
   ]
  },
  {
   "cell_type": "markdown",
   "metadata": {
    "collapsed": true
   },
   "source": [
    "most popular tokens"
   ]
  },
  {
   "cell_type": "code",
   "execution_count": 16,
   "metadata": {},
   "outputs": [
    {
     "name": "stdout",
     "output_type": "stream",
     "text": [
      "['the', 'to', 'of', 'a', 'and', 'in', 'that', 'for', 'is', 'on', 'was', 'with', 'as', 'The', 'he', 'it', 'at', 'his', 'have', 'be', 'from', 'are', 'by', 'has', 'not', 'I', 'an', 'said', 'who', 'Trump', '\\xe2\\x80\\x94', 'this', 'they', 'about', 'or', 'had', 'their', 'but', 'will', 'you', 'were', 'would', 'more', 'been', 'her', 'one', 'she', 'we', 'people', 'which']\n",
      "... 1322508\n"
     ]
    }
   ],
   "source": [
    "print vocab[:50]\n",
    "print '...',len(vocab)"
   ]
  },
  {
   "cell_type": "code",
   "execution_count": 17,
   "metadata": {},
   "outputs": [
    {
     "data": {
      "image/png": "[encoded data removed]",
      "text/plain": [
       "<Figure size 432x288 with 1 Axes>"
      ]
     },
     "metadata": {
      "needs_background": "light"
     },
     "output_type": "display_data"
    }
   ],
   "source": [
    "import matplotlib.pyplot as plt\n",
    "%matplotlib inline\n",
    "plt.plot([vocabcount[w] for w in vocab]);\n",
    "plt.gca().set_xscale(\"log\", nonposx='clip')\n",
    "plt.gca().set_yscale(\"log\", nonposy='clip')\n",
    "plt.title('word distribution in headlines and description')\n",
    "plt.xlabel('rank')\n",
    "plt.ylabel('total appearances');"
   ]
  },
  {
   "cell_type": "markdown",
   "metadata": {},
   "source": [
    "always nice to see [Zipf's law](https://en.wikipedia.org/wiki/Zipf%27s_law)"
   ]
  },
  {
   "cell_type": "markdown",
   "metadata": {},
   "source": [
    "# Index words"
   ]
  },
  {
   "cell_type": "code",
   "execution_count": 18,
   "metadata": {
    "collapsed": true
   },
   "outputs": [],
   "source": [
    "empty = 0 # RNN mask of no data\n",
    "eos = 1  # end of sentence\n",
    "start_idx = eos+1 # first real word"
   ]
  },
  {
   "cell_type": "code",
   "execution_count": 19,
   "metadata": {
    "collapsed": true
   },
   "outputs": [],
   "source": [
    "def get_idx(vocab, vocabcount):\n",
    "    word2idx = dict((word, idx+start_idx) for idx,word in enumerate(vocab))\n",
    "    word2idx['<empty>'] = empty\n",
    "    word2idx['<eos>'] = eos\n",
    "    \n",
    "    idx2word = dict((idx,word) for word,idx in word2idx.iteritems())\n",
    "\n",
    "    return word2idx, idx2word"
   ]
  },
  {
   "cell_type": "code",
   "execution_count": 20,
   "metadata": {
    "collapsed": true
   },
   "outputs": [],
   "source": [
    "word2idx, idx2word = get_idx(vocab, vocabcount)"
   ]
  },
  {
   "cell_type": "markdown",
   "metadata": {},
   "source": [
    "# Word Embedding"
   ]
  },
  {
   "cell_type": "markdown",
   "metadata": {},
   "source": [
    "## read GloVe"
   ]
  },
  {
   "cell_type": "code",
   "execution_count": 21,
   "metadata": {},
   "outputs": [
    {
     "name": "stderr",
     "output_type": "stream",
     "text": [
      "Using TensorFlow backend.\n"
     ]
    },
    {
     "name": "stdout",
     "output_type": "stream",
     "text": [
      "unzip:  cannot find or open /home/ec2-user/.keras/datasets//home/ec2-user/.keras/datasets/glove.6B.zip, /home/ec2-user/.keras/datasets//home/ec2-user/.keras/datasets/glove.6B.zip.zip or /home/ec2-user/.keras/datasets//home/ec2-user/.keras/datasets/glove.6B.zip.ZIP.\r\n"
     ]
    }
   ],
   "source": [
    "# manually did this after downloading\n",
    "'''\n",
    "fname = 'glove.6B.%dd.txt'%embedding_dim\n",
    "import os\n",
    "import keras\n",
    "import numpy as np\n",
    "import tensorflow as tf\n",
    "datadir_base = os.path.expanduser(os.path.join('~', '.keras'))\n",
    "if not os.access(datadir_base, os.W_OK):\n",
    "    datadir_base = os.path.join('/tmp', '.keras')\n",
    "datadir = os.path.join(datadir_base, 'datasets')\n",
    "glove_name = os.path.join(datadir, fname)\n",
    "if not os.path.exists(glove_name):\n",
    "    path = 'glove.6B.zip'\n",
    "    path = keras.utils.get_file(path, origin=\"http://nlp.stanford.edu/data/glove.6B.zip\")\n",
    "    !unzip {datadir}/{path}\n",
    "'''"
   ]
  },
  {
   "cell_type": "code",
   "execution_count": 22,
   "metadata": {},
   "outputs": [
    {
     "data": {
      "text/plain": [
       "400000"
      ]
     },
     "execution_count": 22,
     "metadata": {},
     "output_type": "execute_result"
    }
   ],
   "source": [
    "glove_n_symbols = !wc -l {\"glove.6B.100d.txt\"} # ensure this file is in right directory\n",
    "glove_n_symbols = int(glove_n_symbols[0].split()[0])\n",
    "glove_n_symbols"
   ]
  },
  {
   "cell_type": "code",
   "execution_count": 23,
   "metadata": {
    "collapsed": true
   },
   "outputs": [],
   "source": [
    "glove_index_dict = {}\n",
    "glove_embedding_weights = np.empty((glove_n_symbols, embedding_dim))\n",
    "globale_scale=.1\n",
    "with open(\"glove.6B.100d.txt\", 'r') as fp:\n",
    "    i = 0\n",
    "    for l in fp:\n",
    "        l = l.strip().split()\n",
    "        w = l[0]\n",
    "        glove_index_dict[w] = i\n",
    "        glove_embedding_weights[i,:] = map(float,l[1:])\n",
    "        i += 1\n",
    "glove_embedding_weights *= globale_scale"
   ]
  },
  {
   "cell_type": "code",
   "execution_count": 24,
   "metadata": {},
   "outputs": [
    {
     "data": {
      "text/plain": [
       "0.04081572760019029"
      ]
     },
     "execution_count": 24,
     "metadata": {},
     "output_type": "execute_result"
    }
   ],
   "source": [
    "glove_embedding_weights.std()"
   ]
  },
  {
   "cell_type": "code",
   "execution_count": 25,
   "metadata": {
    "collapsed": true
   },
   "outputs": [],
   "source": [
    "for w,i in glove_index_dict.iteritems():\n",
    "    w = w.lower()\n",
    "    if w not in glove_index_dict:\n",
    "        glove_index_dict[w] = i"
   ]
  },
  {
   "cell_type": "markdown",
   "metadata": {},
   "source": [
    "## embedding matrix"
   ]
  },
  {
   "cell_type": "markdown",
   "metadata": {},
   "source": [
    "use GloVe to initialize embedding matrix"
   ]
  },
  {
   "cell_type": "code",
   "execution_count": 26,
   "metadata": {},
   "outputs": [
    {
     "name": "stdout",
     "output_type": "stream",
     "text": [
      "random-embedding/glove scale 0.0706949139514209 std 0.04081382495746382\n",
      "number of tokens, in small vocab, found in glove and copied to embedding 28629 0.715725\n"
     ]
    }
   ],
   "source": [
    "import numpy as np\n",
    "\n",
    "# generate random embedding with same scale as glove\n",
    "np.random.seed(seed)\n",
    "shape = (vocab_size, embedding_dim)\n",
    "scale = glove_embedding_weights.std()*np.sqrt(12)/2 # uniform and not normal\n",
    "embedding = np.random.uniform(low=-scale, high=scale, size=shape)\n",
    "print 'random-embedding/glove scale', scale, 'std', embedding.std()\n",
    "\n",
    "# copy from glove weights of words that appear in our short vocabulary (idx2word)\n",
    "c = 0\n",
    "for i in range(vocab_size):\n",
    "    w = idx2word[i]\n",
    "    g = glove_index_dict.get(w, glove_index_dict.get(w.lower()))\n",
    "    if g is None and w.startswith('#'): # glove has no hastags (I think...)\n",
    "        w = w[1:]\n",
    "        g = glove_index_dict.get(w, glove_index_dict.get(w.lower()))\n",
    "    if g is not None:\n",
    "        embedding[i,:] = glove_embedding_weights[g,:]\n",
    "        c+=1\n",
    "print 'number of tokens, in small vocab, found in glove and copied to embedding', c,c/float(vocab_size)"
   ]
  },
  {
   "cell_type": "markdown",
   "metadata": {},
   "source": [
    "lots of word in the full vocabulary (word2idx) are outside `vocab_size`.\n",
    "Build an alterantive which will map them to their closest match in glove but only if the match\n",
    "is good enough (cos distance above `glove_thr`)"
   ]
  },
  {
   "cell_type": "code",
   "execution_count": 27,
   "metadata": {
    "collapsed": true
   },
   "outputs": [],
   "source": [
    "glove_thr = 0.5"
   ]
  },
  {
   "cell_type": "code",
   "execution_count": 28,
   "metadata": {
    "collapsed": true
   },
   "outputs": [],
   "source": [
    "word2glove = {}\n",
    "for w in word2idx:\n",
    "    if w in glove_index_dict:\n",
    "        g = w\n",
    "    elif w.lower() in glove_index_dict:\n",
    "        g = w.lower()\n",
    "    elif w.startswith('#') and w[1:] in glove_index_dict:\n",
    "        g = w[1:]\n",
    "    elif w.startswith('#') and w[1:].lower() in glove_index_dict:\n",
    "        g = w[1:].lower()\n",
    "    else:\n",
    "        continue\n",
    "    word2glove[w] = g"
   ]
  },
  {
   "cell_type": "markdown",
   "metadata": {},
   "source": [
    "for every word outside the embedding matrix find the closest word inside the mebedding matrix.\n",
    "Use cos distance of GloVe vectors.\n",
    "\n",
    "Allow for the last `nb_unknown_words` words inside the embedding matrix to be considered to be outside.\n",
    "Dont accept distances below `glove_thr`"
   ]
  },
  {
   "cell_type": "code",
   "execution_count": 29,
   "metadata": {},
   "outputs": [
    {
     "name": "stdout",
     "output_type": "stream",
     "text": [
      "# of glove substitutes found 112740\n"
     ]
    }
   ],
   "source": [
    "normed_embedding = embedding/np.array([np.sqrt(np.dot(gweight,gweight)) for gweight in embedding])[:,None]\n",
    "\n",
    "nb_unknown_words = 100\n",
    "\n",
    "glove_match = []\n",
    "for w,idx in word2idx.iteritems():\n",
    "    if idx >= vocab_size-nb_unknown_words and w.isalpha() and w in word2glove:\n",
    "        gidx = glove_index_dict[word2glove[w]]\n",
    "        gweight = glove_embedding_weights[gidx,:].copy()\n",
    "        # find row in embedding that has the highest cos score with gweight\n",
    "        gweight /= np.sqrt(np.dot(gweight,gweight))\n",
    "        score = np.dot(normed_embedding[:vocab_size-nb_unknown_words], gweight)\n",
    "        while True:\n",
    "            embedding_idx = score.argmax()\n",
    "            s = score[embedding_idx]\n",
    "            if s < glove_thr:\n",
    "                break\n",
    "            if idx2word[embedding_idx] in word2glove :\n",
    "                glove_match.append((w, embedding_idx, s)) \n",
    "                break\n",
    "            score[embedding_idx] = -1\n",
    "glove_match.sort(key = lambda x: -x[2])\n",
    "print '# of glove substitutes found', len(glove_match)"
   ]
  },
  {
   "cell_type": "markdown",
   "metadata": {},
   "source": [
    "manually check that the worst substitutions we are going to do are good enough"
   ]
  },
  {
   "cell_type": "code",
   "execution_count": 30,
   "metadata": {},
   "outputs": [
    {
     "name": "stdout",
     "output_type": "stream",
     "text": [
      "0.5000164127769458 Modigliani => Warhol\n",
      "0.5000117912758282 Salvi => Allred\n",
      "0.5000113658688605 Colleyville => Calabasas\n",
      "0.5000089661535665 Vilma => Pineda\n",
      "0.5000085715859814 Philo => Cyrus\n",
      "0.5000069905641444 Terada => Kislyak\n",
      "0.5000059469811272 colonizing => migrating\n",
      "0.5000056910428538 sniped => bristled\n",
      "0.5000055595011661 cheapskate => dude\n",
      "0.5000037989997332 Maia => Joanna\n"
     ]
    }
   ],
   "source": [
    "for orig, sub, score in glove_match[-10:]:\n",
    "    print score, orig,'=>', idx2word[sub]"
   ]
  },
  {
   "cell_type": "markdown",
   "metadata": {},
   "source": [
    "build a lookup table of index of outside words to index of inside words"
   ]
  },
  {
   "cell_type": "code",
   "execution_count": 31,
   "metadata": {
    "collapsed": true
   },
   "outputs": [],
   "source": [
    "glove_idx2idx = dict((word2idx[w],embedding_idx) for  w, embedding_idx, _ in glove_match)"
   ]
  },
  {
   "cell_type": "markdown",
   "metadata": {},
   "source": [
    "# Data"
   ]
  },
  {
   "cell_type": "code",
   "execution_count": 32,
   "metadata": {},
   "outputs": [
    {
     "data": {
      "text/plain": [
       "96543"
      ]
     },
     "execution_count": 32,
     "metadata": {},
     "output_type": "execute_result"
    }
   ],
   "source": [
    "Y = [[word2idx[token] for token in headline.split()] for headline in heads]\n",
    "len(Y)"
   ]
  },
  {
   "cell_type": "code",
   "execution_count": 33,
   "metadata": {},
   "outputs": [
    {
     "data": {
      "image/png": "[encoded data removed]",
      "text/plain": [
       "<Figure size 432x288 with 1 Axes>"
      ]
     },
     "metadata": {
      "needs_background": "light"
     },
     "output_type": "display_data"
    }
   ],
   "source": [
    "plt.hist(map(len,Y),bins=50);"
   ]
  },
  {
   "cell_type": "code",
   "execution_count": 34,
   "metadata": {},
   "outputs": [
    {
     "data": {
      "text/plain": [
       "96543"
      ]
     },
     "execution_count": 34,
     "metadata": {},
     "output_type": "execute_result"
    }
   ],
   "source": [
    "X = [[word2idx[token] for token in d.split()] for d in desc]\n",
    "len(X)"
   ]
  },
  {
   "cell_type": "code",
   "execution_count": 35,
   "metadata": {
    "scrolled": true
   },
   "outputs": [
    {
     "data": {
      "image/png": "[encoded data removed]",
      "text/plain": [
       "<Figure size 432x288 with 1 Axes>"
      ]
     },
     "metadata": {
      "needs_background": "light"
     },
     "output_type": "display_data"
    }
   ],
   "source": [
    "plt.hist(map(len,X),bins=50);"
   ]
  },
  {
   "cell_type": "code",
   "execution_count": 36,
   "metadata": {
    "collapsed": true
   },
   "outputs": [],
   "source": [
    "import cPickle as pickle\n",
    "with open('data/%s.pkl'%FN,'wb') as fp:\n",
    "    pickle.dump((embedding, idx2word, word2idx, glove_idx2idx),fp,-1)"
   ]
  },
  {
   "cell_type": "code",
   "execution_count": 37,
   "metadata": {
    "collapsed": true
   },
   "outputs": [],
   "source": [
    "import cPickle as pickle\n",
    "with open('data/%s.data.pkl'%FN,'wb') as fp:\n",
    "    pickle.dump((X,Y),fp,-1)"
   ]
  },
  {
   "cell_type": "code",
   "execution_count": null,
   "metadata": {
    "collapsed": true
   },
   "outputs": [],
   "source": []
  }
 ],
 "metadata": {
  "kernelspec": {
   "display_name": "Python 3",
   "language": "python",
   "name": "python3"
  },
  "language_info": {
   "codemirror_mode": {
    "name": "ipython",
    "version": 3
   },
   "file_extension": ".py",
   "mimetype": "text/x-python",
   "name": "python",
   "nbconvert_exporter": "python",
   "pygments_lexer": "ipython3",
   "version": "3.6.8"
  }
 },
 "nbformat": 4,
 "nbformat_minor": 1
}
